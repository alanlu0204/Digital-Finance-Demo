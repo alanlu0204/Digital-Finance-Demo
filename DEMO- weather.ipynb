{
 "cells": [
  {
   "cell_type": "code",
   "execution_count": 1,
   "metadata": {},
   "outputs": [],
   "source": [
    "import requests\n",
    "import json\n",
    "import time\n",
    "\n",
    "# input your token\n",
    "token = \"KMwDG2fSCcRtA4spIJvtSvJsBzJWIhzU7yF0R3w13Kf\""
   ]
  },
  {
   "cell_type": "markdown",
   "metadata": {},
   "source": [
    "## obtain API data"
   ]
  },
  {
   "cell_type": "code",
   "execution_count": 2,
   "metadata": {},
   "outputs": [
    {
     "data": {
      "text/plain": [
       "'\\n中央氣象局 url: https://opendata.cwb.gov.tw/dist/opendata-swagger.html\\n中央氣象局 API授權碼: CWB-391520DF-6265-4E5C-908A-CAC4F4084AE9\\n'"
      ]
     },
     "execution_count": 2,
     "metadata": {},
     "output_type": "execute_result"
    }
   ],
   "source": [
    "'''\n",
    "中央氣象局 url: https://opendata.cwb.gov.tw/dist/opendata-swagger.html\n",
    "中央氣象局 API授權碼: CWB-391520DF-6265-4E5C-908A-CAC4F4084AE9\n",
    "'''\n"
   ]
  },
  {
   "cell_type": "code",
   "execution_count": 3,
   "metadata": {},
   "outputs": [
    {
     "name": "stdout",
     "output_type": "stream",
     "text": [
      "{\"success\":\"true\",\"result\":{\"resource_id\":\"F-C0032-001\",\"fields\":[{\"id\":\"datasetDescription\",\"type\":\"String\"},{\"id\":\"locationName\",\"type\":\"String\"},{\"id\":\"parameterName\",\"type\":\"String\"},{\"id\":\"parameterValue\",\"type\":\"String\"},{\"id\":\"parameterUnit\",\"type\":\"String\"},{\"id\":\"startTime\",\"type\":\"Timestamp\"},{\"id\":\"endTime\",\"type\":\"Timestamp\"}]},\"records\":{\"datasetDescription\":\"三十六小時天氣預報\",\"location\":[{\"locationName\":\"嘉義縣\",\"weatherElement\":[{\"elementName\":\"Wx\",\"time\":[{\"startTime\":\"2021-11-28 18:00:00\",\"endTime\":\"2021-11-29 06:00:00\",\"parameter\":{\"parameterName\":\"陰短暫雨\",\"parameterValue\":\"11\"}},{\"startTime\":\"2021-11-29 06:00:00\",\"endTime\":\"2021-11-29 18:00:00\",\"parameter\":{\"parameterName\":\"多雲時陰短暫雨\",\"parameterValue\":\"9\"}},{\"startTime\":\"2021-11-29 18:00:00\",\"endTime\":\"2021-11-30 06:00:00\",\"parameter\":{\"parameterName\":\"陰時多雲\",\"parameterValue\":\"6\"}}]},{\"elementName\":\"PoP\",\"time\":[{\"startTime\":\"2021-11-28 18:00:00\",\"endTime\":\"2021-11-29 06:00:00\",\"parameter\":{\"parameterName\":\"40\",\"parameterUnit\":\"百分比\"}},{\"startTime\":\"2021-11-29 06:00:00\",\"endTime\":\"2021-11-29 18:00:00\",\"parameter\":{\"parameterName\":\"40\",\"parameterUnit\":\"百分比\"}},{\"startTime\":\"2021-11-29 18:00:00\",\"endTime\":\"2021-11-30 06:00:00\",\"parameter\":{\"parameterName\":\"20\",\"parameterUnit\":\"百分比\"}}]},{\"elementName\":\"MinT\",\"time\":[{\"startTime\":\"2021-11-28 18:00:00\",\"endTime\":\"2021-11-29 06:00:00\",\"parameter\":{\"parameterName\":\"20\",\"parameterUnit\":\"C\"}},{\"startTime\":\"2021-11-29 06:00:00\",\"endTime\":\"2021-11-29 18:00:00\",\"parameter\":{\"parameterName\":\"20\",\"parameterUnit\":\"C\"}},{\"startTime\":\"2021-11-29 18:00:00\",\"endTime\":\"2021-11-30 06:00:00\",\"parameter\":{\"parameterName\":\"20\",\"parameterUnit\":\"C\"}}]},{\"elementName\":\"CI\",\"time\":[{\"startTime\":\"2021-11-28 18:00:00\",\"endTime\":\"2021-11-29 06:00:00\",\"parameter\":{\"parameterName\":\"舒適\"}},{\"startTime\":\"2021-11-29 06:00:00\",\"endTime\":\"2021-11-29 18:00:00\",\"parameter\":{\"parameterName\":\"舒適\"}},{\"startTime\":\"2021-11-29 18:00:00\",\"endTime\":\"2021-11-30 06:00:00\",\"parameter\":{\"parameterName\":\"舒適\"}}]},{\"elementName\":\"MaxT\",\"time\":[{\"startTime\":\"2021-11-28 18:00:00\",\"endTime\":\"2021-11-29 06:00:00\",\"parameter\":{\"parameterName\":\"23\",\"parameterUnit\":\"C\"}},{\"startTime\":\"2021-11-29 06:00:00\",\"endTime\":\"2021-11-29 18:00:00\",\"parameter\":{\"parameterName\":\"26\",\"parameterUnit\":\"C\"}},{\"startTime\":\"2021-11-29 18:00:00\",\"endTime\":\"2021-11-30 06:00:00\",\"parameter\":{\"parameterName\":\"23\",\"parameterUnit\":\"C\"}}]}]},{\"locationName\":\"新北市\",\"weatherElement\":[{\"elementName\":\"Wx\",\"time\":[{\"startTime\":\"2021-11-28 18:00:00\",\"endTime\":\"2021-11-29 06:00:00\",\"parameter\":{\"parameterName\":\"陰時多雲短暫雨\",\"parameterValue\":\"10\"}},{\"startTime\":\"2021-11-29 06:00:00\",\"endTime\":\"2021-11-29 18:00:00\",\"parameter\":{\"parameterName\":\"多雲\",\"parameterValue\":\"4\"}},{\"startTime\":\"2021-11-29 18:00:00\",\"endTime\":\"2021-11-30 06:00:00\",\"parameter\":{\"parameterName\":\"多雲時陰短暫雨\",\"parameterValue\":\"9\"}}]},{\"elementName\":\"PoP\",\"time\":[{\"startTime\":\"2021-11-28 18:00:00\",\"endTime\":\"2021-11-29 06:00:00\",\"parameter\":{\"parameterName\":\"40\",\"parameterUnit\":\"百分比\"}},{\"startTime\":\"2021-11-29 06:00:00\",\"endTime\":\"2021-11-29 18:00:00\",\"parameter\":{\"parameterName\":\"20\",\"parameterUnit\":\"百分比\"}},{\"startTime\":\"2021-11-29 18:00:00\",\"endTime\":\"2021-11-30 06:00:00\",\"parameter\":{\"parameterName\":\"40\",\"parameterUnit\":\"百分比\"}}]},{\"elementName\":\"MinT\",\"time\":[{\"startTime\":\"2021-11-28 18:00:00\",\"endTime\":\"2021-11-29 06:00:00\",\"parameter\":{\"parameterName\":\"21\",\"parameterUnit\":\"C\"}},{\"startTime\":\"2021-11-29 06:00:00\",\"endTime\":\"2021-11-29 18:00:00\",\"parameter\":{\"parameterName\":\"21\",\"parameterUnit\":\"C\"}},{\"startTime\":\"2021-11-29 18:00:00\",\"endTime\":\"2021-11-30 06:00:00\",\"parameter\":{\"parameterName\":\"20\",\"parameterUnit\":\"C\"}}]},{\"elementName\":\"CI\",\"time\":[{\"startTime\":\"2021-11-28 18:00:00\",\"endTime\":\"2021-11-29 06:00:00\",\"parameter\":{\"parameterName\":\"舒適\"}},{\"startTime\":\"2021-11-29 06:00:00\",\"endTime\":\"2021-11-29 18:00:00\",\"parameter\":{\"parameterName\":\"舒適\"}},{\"startTime\":\"2021-11-29 18:00:00\",\"endTime\":\"2021-11-30 06:00:00\",\"parameter\":{\"parameterName\":\"舒適\"}}]},{\"elementName\":\"MaxT\",\"time\":[{\"startTime\":\"2021-11-28 18:00:00\",\"endTime\":\"2021-11-29 06:00:00\",\"parameter\":{\"parameterName\":\"23\",\"parameterUnit\":\"C\"}},{\"startTime\":\"2021-11-29 06:00:00\",\"endTime\":\"2021-11-29 18:00:00\",\"parameter\":{\"parameterName\":\"25\",\"parameterUnit\":\"C\"}},{\"startTime\":\"2021-11-29 18:00:00\",\"endTime\":\"2021-11-30 06:00:00\",\"parameter\":{\"parameterName\":\"22\",\"parameterUnit\":\"C\"}}]}]},{\"locationName\":\"嘉義市\",\"weatherElement\":[{\"elementName\":\"Wx\",\"time\":[{\"startTime\":\"2021-11-28 18:00:00\",\"endTime\":\"2021-11-29 06:00:00\",\"parameter\":{\"parameterName\":\"陰時多雲短暫雨\",\"parameterValue\":\"10\"}},{\"startTime\":\"2021-11-29 06:00:00\",\"endTime\":\"2021-11-29 18:00:00\",\"parameter\":{\"parameterName\":\"多雲短暫雨\",\"parameterValue\":\"8\"}},{\"startTime\":\"2021-11-29 18:00:00\",\"endTime\":\"2021-11-30 06:00:00\",\"parameter\":{\"parameterName\":\"陰時多雲\",\"parameterValue\":\"6\"}}]},{\"elementName\":\"PoP\",\"time\":[{\"startTime\":\"2021-11-28 18:00:00\",\"endTime\":\"2021-11-29 06:00:00\",\"parameter\":{\"parameterName\":\"40\",\"parameterUnit\":\"百分比\"}},{\"startTime\":\"2021-11-29 06:00:00\",\"endTime\":\"2021-11-29 18:00:00\",\"parameter\":{\"parameterName\":\"40\",\"parameterUnit\":\"百分比\"}},{\"startTime\":\"2021-11-29 18:00:00\",\"endTime\":\"2021-11-30 06:00:00\",\"parameter\":{\"parameterName\":\"20\",\"parameterUnit\":\"百分比\"}}]},{\"elementName\":\"MinT\",\"time\":[{\"startTime\":\"2021-11-28 18:00:00\",\"endTime\":\"2021-11-29 06:00:00\",\"parameter\":{\"parameterName\":\"20\",\"parameterUnit\":\"C\"}},{\"startTime\":\"2021-11-29 06:00:00\",\"endTime\":\"2021-11-29 18:00:00\",\"parameter\":{\"parameterName\":\"20\",\"parameterUnit\":\"C\"}},{\"startTime\":\"2021-11-29 18:00:00\",\"endTime\":\"2021-11-30 06:00:00\",\"parameter\":{\"parameterName\":\"19\",\"parameterUnit\":\"C\"}}]},{\"elementName\":\"CI\",\"time\":[{\"startTime\":\"2021-11-28 18:00:00\",\"endTime\":\"2021-11-29 06:00:00\",\"parameter\":{\"parameterName\":\"舒適\"}},{\"startTime\":\"2021-11-29 06:00:00\",\"endTime\":\"2021-11-29 18:00:00\",\"parameter\":{\"parameterName\":\"舒適\"}},{\"startTime\":\"2021-11-29 18:00:00\",\"endTime\":\"2021-11-30 06:00:00\",\"parameter\":{\"parameterName\":\"稍有寒意至舒適\"}}]},{\"elementName\":\"MaxT\",\"time\":[{\"startTime\":\"2021-11-28 18:00:00\",\"endTime\":\"2021-11-29 06:00:00\",\"parameter\":{\"parameterName\":\"23\",\"parameterUnit\":\"C\"}},{\"startTime\":\"2021-11-29 06:00:00\",\"endTime\":\"2021-11-29 18:00:00\",\"parameter\":{\"parameterName\":\"26\",\"parameterUnit\":\"C\"}},{\"startTime\":\"2021-11-29 18:00:00\",\"endTime\":\"2021-11-30 06:00:00\",\"parameter\":{\"parameterName\":\"23\",\"parameterUnit\":\"C\"}}]}]},{\"locationName\":\"新竹縣\",\"weatherElement\":[{\"elementName\":\"Wx\",\"time\":[{\"startTime\":\"2021-11-28 18:00:00\",\"endTime\":\"2021-11-29 06:00:00\",\"parameter\":{\"parameterName\":\"陰時多雲\",\"parameterValue\":\"6\"}},{\"startTime\":\"2021-11-29 06:00:00\",\"endTime\":\"2021-11-29 18:00:00\",\"parameter\":{\"parameterName\":\"多雲\",\"parameterValue\":\"4\"}},{\"startTime\":\"2021-11-29 18:00:00\",\"endTime\":\"2021-11-30 06:00:00\",\"parameter\":{\"parameterName\":\"多雲時陰短暫雨\",\"parameterValue\":\"9\"}}]},{\"elementName\":\"PoP\",\"time\":[{\"startTime\":\"2021-11-28 18:00:00\",\"endTime\":\"2021-11-29 06:00:00\",\"parameter\":{\"parameterName\":\"20\",\"parameterUnit\":\"百分比\"}},{\"startTime\":\"2021-11-29 06:00:00\",\"endTime\":\"2021-11-29 18:00:00\",\"parameter\":{\"parameterName\":\"20\",\"parameterUnit\":\"百分比\"}},{\"startTime\":\"2021-11-29 18:00:00\",\"endTime\":\"2021-11-30 06:00:00\",\"parameter\":{\"parameterName\":\"40\",\"parameterUnit\":\"百分比\"}}]},{\"elementName\":\"MinT\",\"time\":[{\"startTime\":\"2021-11-28 18:00:00\",\"endTime\":\"2021-11-29 06:00:00\",\"parameter\":{\"parameterName\":\"19\",\"parameterUnit\":\"C\"}},{\"startTime\":\"2021-11-29 06:00:00\",\"endTime\":\"2021-11-29 18:00:00\",\"parameter\":{\"parameterName\":\"19\",\"parameterUnit\":\"C\"}},{\"startTime\":\"2021-11-29 18:00:00\",\"endTime\":\"2021-11-30 06:00:00\",\"parameter\":{\"parameterName\":\"19\",\"parameterUnit\":\"C\"}}]},{\"elementName\":\"CI\",\"time\":[{\"startTime\":\"2021-11-28 18:00:00\",\"endTime\":\"2021-11-29 06:00:00\",\"parameter\":{\"parameterName\":\"稍有寒意至舒適\"}},{\"startTime\":\"2021-11-29 06:00:00\",\"endTime\":\"2021-11-29 18:00:00\",\"parameter\":{\"parameterName\":\"稍有寒意至舒適\"}},{\"startTime\":\"2021-11-29 18:00:00\",\"endTime\":\"2021-11-30 06:00:00\",\"parameter\":{\"parameterName\":\"稍有寒意至舒適\"}}]},{\"elementName\":\"MaxT\",\"time\":[{\"startTime\":\"2021-11-28 18:00:00\",\"endTime\":\"2021-11-29 06:00:00\",\"parameter\":{\"parameterName\":\"22\",\"parameterUnit\":\"C\"}},{\"startTime\":\"2021-11-29 06:00:00\",\"endTime\":\"2021-11-29 18:00:00\",\"parameter\":{\"parameterName\":\"25\",\"parameterUnit\":\"C\"}},{\"startTime\":\"2021-11-29 18:00:00\",\"endTime\":\"2021-11-30 06:00:00\",\"parameter\":{\"parameterName\":\"21\",\"parameterUnit\":\"C\"}}]}]},{\"locationName\":\"新竹市\",\"weatherElement\":[{\"elementName\":\"Wx\",\"time\":[{\"startTime\":\"2021-11-28 18:00:00\",\"endTime\":\"2021-11-29 06:00:00\",\"parameter\":{\"parameterName\":\"陰時多雲\",\"parameterValue\":\"6\"}},{\"startTime\":\"2021-11-29 06:00:00\",\"endTime\":\"2021-11-29 18:00:00\",\"parameter\":{\"parameterName\":\"多雲\",\"parameterValue\":\"4\"}},{\"startTime\":\"2021-11-29 18:00:00\",\"endTime\":\"2021-11-30 06:00:00\",\"parameter\":{\"parameterName\":\"多雲時陰短暫雨\",\"parameterValue\":\"9\"}}]},{\"elementName\":\"PoP\",\"time\":[{\"startTime\":\"2021-11-28 18:00:00\",\"endTime\":\"2021-11-29 06:00:00\",\"parameter\":{\"parameterName\":\"20\",\"parameterUnit\":\"百分比\"}},{\"startTime\":\"2021-11-29 06:00:00\",\"endTime\":\"2021-11-29 18:00:00\",\"parameter\":{\"parameterName\":\"20\",\"parameterUnit\":\"百分比\"}},{\"startTime\":\"2021-11-29 18:00:00\",\"endTime\":\"2021-11-30 06:00:00\",\"parameter\":{\"parameterName\":\"40\",\"parameterUnit\":\"百分比\"}}]},{\"elementName\":\"MinT\",\"time\":[{\"startTime\":\"2021-11-28 18:00:00\",\"endTime\":\"2021-11-29 06:00:00\",\"parameter\":{\"parameterName\":\"20\",\"parameterUnit\":\"C\"}},{\"startTime\":\"2021-11-29 06:00:00\",\"endTime\":\"2021-11-29 18:00:00\",\"parameter\":{\"parameterName\":\"20\",\"parameterUnit\":\"C\"}},{\"startTime\":\"2021-11-29 18:00:00\",\"endTime\":\"2021-11-30 06:00:00\",\"parameter\":{\"parameterName\":\"20\",\"parameterUnit\":\"C\"}}]},{\"elementName\":\"CI\",\"time\":[{\"startTime\":\"2021-11-28 18:00:00\",\"endTime\":\"2021-11-29 06:00:00\",\"parameter\":{\"parameterName\":\"舒適\"}},{\"startTime\":\"2021-11-29 06:00:00\",\"endTime\":\"2021-11-29 18:00:00\",\"parameter\":{\"parameterName\":\"舒適\"}},{\"startTime\":\"2021-11-29 18:00:00\",\"endTime\":\"2021-11-30 06:00:00\",\"parameter\":{\"parameterName\":\"舒適\"}}]},{\"elementName\":\"MaxT\",\"time\":[{\"startTime\":\"2021-11-28 18:00:00\",\"endTime\":\"2021-11-29 06:00:00\",\"parameter\":{\"parameterName\":\"23\",\"parameterUnit\":\"C\"}},{\"startTime\":\"2021-11-29 06:00:00\",\"endTime\":\"2021-11-29 18:00:00\",\"parameter\":{\"parameterName\":\"25\",\"parameterUnit\":\"C\"}},{\"startTime\":\"2021-11-29 18:00:00\",\"endTime\":\"2021-11-30 06:00:00\",\"parameter\":{\"parameterName\":\"22\",\"parameterUnit\":\"C\"}}]}]},{\"locationName\":\"臺北市\",\"weatherElement\":[{\"elementName\":\"Wx\",\"time\":[{\"startTime\":\"2021-11-28 18:00:00\",\"endTime\":\"2021-11-29 06:00:00\",\"parameter\":{\"parameterName\":\"陰時多雲短暫雨\",\"parameterValue\":\"10\"}},{\"startTime\":\"2021-11-29 06:00:00\",\"endTime\":\"2021-11-29 18:00:00\",\"parameter\":{\"parameterName\":\"多雲時陰\",\"parameterValue\":\"5\"}},{\"startTime\":\"2021-11-29 18:00:00\",\"endTime\":\"2021-11-30 06:00:00\",\"parameter\":{\"parameterName\":\"多雲短暫雨\",\"parameterValue\":\"8\"}}]},{\"elementName\":\"PoP\",\"time\":[{\"startTime\":\"2021-11-28 18:00:00\",\"endTime\":\"2021-11-29 06:00:00\",\"parameter\":{\"parameterName\":\"40\",\"parameterUnit\":\"百分比\"}},{\"startTime\":\"2021-11-29 06:00:00\",\"endTime\":\"2021-11-29 18:00:00\",\"parameter\":{\"parameterName\":\"20\",\"parameterUnit\":\"百分比\"}},{\"startTime\":\"2021-11-29 18:00:00\",\"endTime\":\"2021-11-30 06:00:00\",\"parameter\":{\"parameterName\":\"40\",\"parameterUnit\":\"百分比\"}}]},{\"elementName\":\"MinT\",\"time\":[{\"startTime\":\"2021-11-28 18:00:00\",\"endTime\":\"2021-11-29 06:00:00\",\"parameter\":{\"parameterName\":\"21\",\"parameterUnit\":\"C\"}},{\"startTime\":\"2021-11-29 06:00:00\",\"endTime\":\"2021-11-29 18:00:00\",\"parameter\":{\"parameterName\":\"21\",\"parameterUnit\":\"C\"}},{\"startTime\":\"2021-11-29 18:00:00\",\"endTime\":\"2021-11-30 06:00:00\",\"parameter\":{\"parameterName\":\"19\",\"parameterUnit\":\"C\"}}]},{\"elementName\":\"CI\",\"time\":[{\"startTime\":\"2021-11-28 18:00:00\",\"endTime\":\"2021-11-29 06:00:00\",\"parameter\":{\"parameterName\":\"舒適\"}},{\"startTime\":\"2021-11-29 06:00:00\",\"endTime\":\"2021-11-29 18:00:00\",\"parameter\":{\"parameterName\":\"舒適\"}},{\"startTime\":\"2021-11-29 18:00:00\",\"endTime\":\"2021-11-30 06:00:00\",\"parameter\":{\"parameterName\":\"稍有寒意至舒適\"}}]},{\"elementName\":\"MaxT\",\"time\":[{\"startTime\":\"2021-11-28 18:00:00\",\"endTime\":\"2021-11-29 06:00:00\",\"parameter\":{\"parameterName\":\"22\",\"parameterUnit\":\"C\"}},{\"startTime\":\"2021-11-29 06:00:00\",\"endTime\":\"2021-11-29 18:00:00\",\"parameter\":{\"parameterName\":\"25\",\"parameterUnit\":\"C\"}},{\"startTime\":\"2021-11-29 18:00:00\",\"endTime\":\"2021-11-30 06:00:00\",\"parameter\":{\"parameterName\":\"22\",\"parameterUnit\":\"C\"}}]}]},{\"locationName\":\"臺南市\",\"weatherElement\":[{\"elementName\":\"Wx\",\"time\":[{\"startTime\":\"2021-11-28 18:00:00\",\"endTime\":\"2021-11-29 06:00:00\",\"parameter\":{\"parameterName\":\"陰短暫雨\",\"parameterValue\":\"11\"}},{\"startTime\":\"2021-11-29 06:00:00\",\"endTime\":\"2021-11-29 18:00:00\",\"parameter\":{\"parameterName\":\"陰短暫雨\",\"parameterValue\":\"11\"}},{\"startTime\":\"2021-11-29 18:00:00\",\"endTime\":\"2021-11-30 06:00:00\",\"parameter\":{\"parameterName\":\"陰時多雲\",\"parameterValue\":\"6\"}}]},{\"elementName\":\"PoP\",\"time\":[{\"startTime\":\"2021-11-28 18:00:00\",\"endTime\":\"2021-11-29 06:00:00\",\"parameter\":{\"parameterName\":\"40\",\"parameterUnit\":\"百分比\"}},{\"startTime\":\"2021-11-29 06:00:00\",\"endTime\":\"2021-11-29 18:00:00\",\"parameter\":{\"parameterName\":\"40\",\"parameterUnit\":\"百分比\"}},{\"startTime\":\"2021-11-29 18:00:00\",\"endTime\":\"2021-11-30 06:00:00\",\"parameter\":{\"parameterName\":\"20\",\"parameterUnit\":\"百分比\"}}]},{\"elementName\":\"MinT\",\"time\":[{\"startTime\":\"2021-11-28 18:00:00\",\"endTime\":\"2021-11-29 06:00:00\",\"parameter\":{\"parameterName\":\"22\",\"parameterUnit\":\"C\"}},{\"startTime\":\"2021-11-29 06:00:00\",\"endTime\":\"2021-11-29 18:00:00\",\"parameter\":{\"parameterName\":\"22\",\"parameterUnit\":\"C\"}},{\"startTime\":\"2021-11-29 18:00:00\",\"endTime\":\"2021-11-30 06:00:00\",\"parameter\":{\"parameterName\":\"22\",\"parameterUnit\":\"C\"}}]},{\"elementName\":\"CI\",\"time\":[{\"startTime\":\"2021-11-28 18:00:00\",\"endTime\":\"2021-11-29 06:00:00\",\"parameter\":{\"parameterName\":\"舒適\"}},{\"startTime\":\"2021-11-29 06:00:00\",\"endTime\":\"2021-11-29 18:00:00\",\"parameter\":{\"parameterName\":\"舒適\"}},{\"startTime\":\"2021-11-29 18:00:00\",\"endTime\":\"2021-11-30 06:00:00\",\"parameter\":{\"parameterName\":\"舒適\"}}]},{\"elementName\":\"MaxT\",\"time\":[{\"startTime\":\"2021-11-28 18:00:00\",\"endTime\":\"2021-11-29 06:00:00\",\"parameter\":{\"parameterName\":\"24\",\"parameterUnit\":\"C\"}},{\"startTime\":\"2021-11-29 06:00:00\",\"endTime\":\"2021-11-29 18:00:00\",\"parameter\":{\"parameterName\":\"26\",\"parameterUnit\":\"C\"}},{\"startTime\":\"2021-11-29 18:00:00\",\"endTime\":\"2021-11-30 06:00:00\",\"parameter\":{\"parameterName\":\"24\",\"parameterUnit\":\"C\"}}]}]},{\"locationName\":\"宜蘭縣\",\"weatherElement\":[{\"elementName\":\"Wx\",\"time\":[{\"startTime\":\"2021-11-28 18:00:00\",\"endTime\":\"2021-11-29 06:00:00\",\"parameter\":{\"parameterName\":\"陰短暫雨\",\"parameterValue\":\"11\"}},{\"startTime\":\"2021-11-29 06:00:00\",\"endTime\":\"2021-11-29 18:00:00\",\"parameter\":{\"parameterName\":\"陰時多雲短暫雨\",\"parameterValue\":\"10\"}},{\"startTime\":\"2021-11-29 18:00:00\",\"endTime\":\"2021-11-30 06:00:00\",\"parameter\":{\"parameterName\":\"多雲時陰短暫雨\",\"parameterValue\":\"9\"}}]},{\"elementName\":\"PoP\",\"time\":[{\"startTime\":\"2021-11-28 18:00:00\",\"endTime\":\"2021-11-29 06:00:00\",\"parameter\":{\"parameterName\":\"80\",\"parameterUnit\":\"百分比\"}},{\"startTime\":\"2021-11-29 06:00:00\",\"endTime\":\"2021-11-29 18:00:00\",\"parameter\":{\"parameterName\":\"80\",\"parameterUnit\":\"百分比\"}},{\"startTime\":\"2021-11-29 18:00:00\",\"endTime\":\"2021-11-30 06:00:00\",\"parameter\":{\"parameterName\":\"30\",\"parameterUnit\":\"百分比\"}}]},{\"elementName\":\"MinT\",\"time\":[{\"startTime\":\"2021-11-28 18:00:00\",\"endTime\":\"2021-11-29 06:00:00\",\"parameter\":{\"parameterName\":\"19\",\"parameterUnit\":\"C\"}},{\"startTime\":\"2021-11-29 06:00:00\",\"endTime\":\"2021-11-29 18:00:00\",\"parameter\":{\"parameterName\":\"19\",\"parameterUnit\":\"C\"}},{\"startTime\":\"2021-11-29 18:00:00\",\"endTime\":\"2021-11-30 06:00:00\",\"parameter\":{\"parameterName\":\"19\",\"parameterUnit\":\"C\"}}]},{\"elementName\":\"CI\",\"time\":[{\"startTime\":\"2021-11-28 18:00:00\",\"endTime\":\"2021-11-29 06:00:00\",\"parameter\":{\"parameterName\":\"稍有寒意至舒適\"}},{\"startTime\":\"2021-11-29 06:00:00\",\"endTime\":\"2021-11-29 18:00:00\",\"parameter\":{\"parameterName\":\"稍有寒意至舒適\"}},{\"startTime\":\"2021-11-29 18:00:00\",\"endTime\":\"2021-11-30 06:00:00\",\"parameter\":{\"parameterName\":\"稍有寒意至舒適\"}}]},{\"elementName\":\"MaxT\",\"time\":[{\"startTime\":\"2021-11-28 18:00:00\",\"endTime\":\"2021-11-29 06:00:00\",\"parameter\":{\"parameterName\":\"21\",\"parameterUnit\":\"C\"}},{\"startTime\":\"2021-11-29 06:00:00\",\"endTime\":\"2021-11-29 18:00:00\",\"parameter\":{\"parameterName\":\"23\",\"parameterUnit\":\"C\"}},{\"startTime\":\"2021-11-29 18:00:00\",\"endTime\":\"2021-11-30 06:00:00\",\"parameter\":{\"parameterName\":\"21\",\"parameterUnit\":\"C\"}}]}]},{\"locationName\":\"苗栗縣\",\"weatherElement\":[{\"elementName\":\"Wx\",\"time\":[{\"startTime\":\"2021-11-28 18:00:00\",\"endTime\":\"2021-11-29 06:00:00\",\"parameter\":{\"parameterName\":\"陰時多雲\",\"parameterValue\":\"6\"}},{\"startTime\":\"2021-11-29 06:00:00\",\"endTime\":\"2021-11-29 18:00:00\",\"parameter\":{\"parameterName\":\"多雲\",\"parameterValue\":\"4\"}},{\"startTime\":\"2021-11-29 18:00:00\",\"endTime\":\"2021-11-30 06:00:00\",\"parameter\":{\"parameterName\":\"陰短暫雨\",\"parameterValue\":\"11\"}}]},{\"elementName\":\"PoP\",\"time\":[{\"startTime\":\"2021-11-28 18:00:00\",\"endTime\":\"2021-11-29 06:00:00\",\"parameter\":{\"parameterName\":\"20\",\"parameterUnit\":\"百分比\"}},{\"startTime\":\"2021-11-29 06:00:00\",\"endTime\":\"2021-11-29 18:00:00\",\"parameter\":{\"parameterName\":\"20\",\"parameterUnit\":\"百分比\"}},{\"startTime\":\"2021-11-29 18:00:00\",\"endTime\":\"2021-11-30 06:00:00\",\"parameter\":{\"parameterName\":\"40\",\"parameterUnit\":\"百分比\"}}]},{\"elementName\":\"MinT\",\"time\":[{\"startTime\":\"2021-11-28 18:00:00\",\"endTime\":\"2021-11-29 06:00:00\",\"parameter\":{\"parameterName\":\"19\",\"parameterUnit\":\"C\"}},{\"startTime\":\"2021-11-29 06:00:00\",\"endTime\":\"2021-11-29 18:00:00\",\"parameter\":{\"parameterName\":\"19\",\"parameterUnit\":\"C\"}},{\"startTime\":\"2021-11-29 18:00:00\",\"endTime\":\"2021-11-30 06:00:00\",\"parameter\":{\"parameterName\":\"19\",\"parameterUnit\":\"C\"}}]},{\"elementName\":\"CI\",\"time\":[{\"startTime\":\"2021-11-28 18:00:00\",\"endTime\":\"2021-11-29 06:00:00\",\"parameter\":{\"parameterName\":\"稍有寒意至舒適\"}},{\"startTime\":\"2021-11-29 06:00:00\",\"endTime\":\"2021-11-29 18:00:00\",\"parameter\":{\"parameterName\":\"稍有寒意至舒適\"}},{\"startTime\":\"2021-11-29 18:00:00\",\"endTime\":\"2021-11-30 06:00:00\",\"parameter\":{\"parameterName\":\"稍有寒意至舒適\"}}]},{\"elementName\":\"MaxT\",\"time\":[{\"startTime\":\"2021-11-28 18:00:00\",\"endTime\":\"2021-11-29 06:00:00\",\"parameter\":{\"parameterName\":\"22\",\"parameterUnit\":\"C\"}},{\"startTime\":\"2021-11-29 06:00:00\",\"endTime\":\"2021-11-29 18:00:00\",\"parameter\":{\"parameterName\":\"25\",\"parameterUnit\":\"C\"}},{\"startTime\":\"2021-11-29 18:00:00\",\"endTime\":\"2021-11-30 06:00:00\",\"parameter\":{\"parameterName\":\"22\",\"parameterUnit\":\"C\"}}]}]},{\"locationName\":\"雲林縣\",\"weatherElement\":[{\"elementName\":\"Wx\",\"time\":[{\"startTime\":\"2021-11-28 18:00:00\",\"endTime\":\"2021-11-29 06:00:00\",\"parameter\":{\"parameterName\":\"陰時多雲短暫雨\",\"parameterValue\":\"10\"}},{\"startTime\":\"2021-11-29 06:00:00\",\"endTime\":\"2021-11-29 18:00:00\",\"parameter\":{\"parameterName\":\"多雲短暫雨\",\"parameterValue\":\"8\"}},{\"startTime\":\"2021-11-29 18:00:00\",\"endTime\":\"2021-11-30 06:00:00\",\"parameter\":{\"parameterName\":\"陰時多雲\",\"parameterValue\":\"6\"}}]},{\"elementName\":\"PoP\",\"time\":[{\"startTime\":\"2021-11-28 18:00:00\",\"endTime\":\"2021-11-29 06:00:00\",\"parameter\":{\"parameterName\":\"40\",\"parameterUnit\":\"百分比\"}},{\"startTime\":\"2021-11-29 06:00:00\",\"endTime\":\"2021-11-29 18:00:00\",\"parameter\":{\"parameterName\":\"40\",\"parameterUnit\":\"百分比\"}},{\"startTime\":\"2021-11-29 18:00:00\",\"endTime\":\"2021-11-30 06:00:00\",\"parameter\":{\"parameterName\":\"20\",\"parameterUnit\":\"百分比\"}}]},{\"elementName\":\"MinT\",\"time\":[{\"startTime\":\"2021-11-28 18:00:00\",\"endTime\":\"2021-11-29 06:00:00\",\"parameter\":{\"parameterName\":\"20\",\"parameterUnit\":\"C\"}},{\"startTime\":\"2021-11-29 06:00:00\",\"endTime\":\"2021-11-29 18:00:00\",\"parameter\":{\"parameterName\":\"20\",\"parameterUnit\":\"C\"}},{\"startTime\":\"2021-11-29 18:00:00\",\"endTime\":\"2021-11-30 06:00:00\",\"parameter\":{\"parameterName\":\"20\",\"parameterUnit\":\"C\"}}]},{\"elementName\":\"CI\",\"time\":[{\"startTime\":\"2021-11-28 18:00:00\",\"endTime\":\"2021-11-29 06:00:00\",\"parameter\":{\"parameterName\":\"舒適\"}},{\"startTime\":\"2021-11-29 06:00:00\",\"endTime\":\"2021-11-29 18:00:00\",\"parameter\":{\"parameterName\":\"舒適\"}},{\"startTime\":\"2021-11-29 18:00:00\",\"endTime\":\"2021-11-30 06:00:00\",\"parameter\":{\"parameterName\":\"舒適\"}}]},{\"elementName\":\"MaxT\",\"time\":[{\"startTime\":\"2021-11-28 18:00:00\",\"endTime\":\"2021-11-29 06:00:00\",\"parameter\":{\"parameterName\":\"22\",\"parameterUnit\":\"C\"}},{\"startTime\":\"2021-11-29 06:00:00\",\"endTime\":\"2021-11-29 18:00:00\",\"parameter\":{\"parameterName\":\"25\",\"parameterUnit\":\"C\"}},{\"startTime\":\"2021-11-29 18:00:00\",\"endTime\":\"2021-11-30 06:00:00\",\"parameter\":{\"parameterName\":\"22\",\"parameterUnit\":\"C\"}}]}]},{\"locationName\":\"花蓮縣\",\"weatherElement\":[{\"elementName\":\"Wx\",\"time\":[{\"startTime\":\"2021-11-28 18:00:00\",\"endTime\":\"2021-11-29 06:00:00\",\"parameter\":{\"parameterName\":\"陰時多雲短暫雨\",\"parameterValue\":\"10\"}},{\"startTime\":\"2021-11-29 06:00:00\",\"endTime\":\"2021-11-29 18:00:00\",\"parameter\":{\"parameterName\":\"陰時多雲短暫雨\",\"parameterValue\":\"10\"}},{\"startTime\":\"2021-11-29 18:00:00\",\"endTime\":\"2021-11-30 06:00:00\",\"parameter\":{\"parameterName\":\"多雲短暫雨\",\"parameterValue\":\"8\"}}]},{\"elementName\":\"PoP\",\"time\":[{\"startTime\":\"2021-11-28 18:00:00\",\"endTime\":\"2021-11-29 06:00:00\",\"parameter\":{\"parameterName\":\"80\",\"parameterUnit\":\"百分比\"}},{\"startTime\":\"2021-11-29 06:00:00\",\"endTime\":\"2021-11-29 18:00:00\",\"parameter\":{\"parameterName\":\"80\",\"parameterUnit\":\"百分比\"}},{\"startTime\":\"2021-11-29 18:00:00\",\"endTime\":\"2021-11-30 06:00:00\",\"parameter\":{\"parameterName\":\"50\",\"parameterUnit\":\"百分比\"}}]},{\"elementName\":\"MinT\",\"time\":[{\"startTime\":\"2021-11-28 18:00:00\",\"endTime\":\"2021-11-29 06:00:00\",\"parameter\":{\"parameterName\":\"20\",\"parameterUnit\":\"C\"}},{\"startTime\":\"2021-11-29 06:00:00\",\"endTime\":\"2021-11-29 18:00:00\",\"parameter\":{\"parameterName\":\"20\",\"parameterUnit\":\"C\"}},{\"startTime\":\"2021-11-29 18:00:00\",\"endTime\":\"2021-11-30 06:00:00\",\"parameter\":{\"parameterName\":\"20\",\"parameterUnit\":\"C\"}}]},{\"elementName\":\"CI\",\"time\":[{\"startTime\":\"2021-11-28 18:00:00\",\"endTime\":\"2021-11-29 06:00:00\",\"parameter\":{\"parameterName\":\"舒適\"}},{\"startTime\":\"2021-11-29 06:00:00\",\"endTime\":\"2021-11-29 18:00:00\",\"parameter\":{\"parameterName\":\"舒適\"}},{\"startTime\":\"2021-11-29 18:00:00\",\"endTime\":\"2021-11-30 06:00:00\",\"parameter\":{\"parameterName\":\"舒適\"}}]},{\"elementName\":\"MaxT\",\"time\":[{\"startTime\":\"2021-11-28 18:00:00\",\"endTime\":\"2021-11-29 06:00:00\",\"parameter\":{\"parameterName\":\"22\",\"parameterUnit\":\"C\"}},{\"startTime\":\"2021-11-29 06:00:00\",\"endTime\":\"2021-11-29 18:00:00\",\"parameter\":{\"parameterName\":\"23\",\"parameterUnit\":\"C\"}},{\"startTime\":\"2021-11-29 18:00:00\",\"endTime\":\"2021-11-30 06:00:00\",\"parameter\":{\"parameterName\":\"22\",\"parameterUnit\":\"C\"}}]}]},{\"locationName\":\"臺中市\",\"weatherElement\":[{\"elementName\":\"Wx\",\"time\":[{\"startTime\":\"2021-11-28 18:00:00\",\"endTime\":\"2021-11-29 06:00:00\",\"parameter\":{\"parameterName\":\"陰時多雲短暫雨\",\"parameterValue\":\"10\"}},{\"startTime\":\"2021-11-29 06:00:00\",\"endTime\":\"2021-11-29 18:00:00\",\"parameter\":{\"parameterName\":\"多雲\",\"parameterValue\":\"4\"}},{\"startTime\":\"2021-11-29 18:00:00\",\"endTime\":\"2021-11-30 06:00:00\",\"parameter\":{\"parameterName\":\"多雲時陰\",\"parameterValue\":\"5\"}}]},{\"elementName\":\"PoP\",\"time\":[{\"startTime\":\"2021-11-28 18:00:00\",\"endTime\":\"2021-11-29 06:00:00\",\"parameter\":{\"parameterName\":\"40\",\"parameterUnit\":\"百分比\"}},{\"startTime\":\"2021-11-29 06:00:00\",\"endTime\":\"2021-11-29 18:00:00\",\"parameter\":{\"parameterName\":\"20\",\"parameterUnit\":\"百分比\"}},{\"startTime\":\"2021-11-29 18:00:00\",\"endTime\":\"2021-11-30 06:00:00\",\"parameter\":{\"parameterName\":\"20\",\"parameterUnit\":\"百分比\"}}]},{\"elementName\":\"MinT\",\"time\":[{\"startTime\":\"2021-11-28 18:00:00\",\"endTime\":\"2021-11-29 06:00:00\",\"parameter\":{\"parameterName\":\"21\",\"parameterUnit\":\"C\"}},{\"startTime\":\"2021-11-29 06:00:00\",\"endTime\":\"2021-11-29 18:00:00\",\"parameter\":{\"parameterName\":\"21\",\"parameterUnit\":\"C\"}},{\"startTime\":\"2021-11-29 18:00:00\",\"endTime\":\"2021-11-30 06:00:00\",\"parameter\":{\"parameterName\":\"21\",\"parameterUnit\":\"C\"}}]},{\"elementName\":\"CI\",\"time\":[{\"startTime\":\"2021-11-28 18:00:00\",\"endTime\":\"2021-11-29 06:00:00\",\"parameter\":{\"parameterName\":\"舒適\"}},{\"startTime\":\"2021-11-29 06:00:00\",\"endTime\":\"2021-11-29 18:00:00\",\"parameter\":{\"parameterName\":\"舒適\"}},{\"startTime\":\"2021-11-29 18:00:00\",\"endTime\":\"2021-11-30 06:00:00\",\"parameter\":{\"parameterName\":\"舒適\"}}]},{\"elementName\":\"MaxT\",\"time\":[{\"startTime\":\"2021-11-28 18:00:00\",\"endTime\":\"2021-11-29 06:00:00\",\"parameter\":{\"parameterName\":\"24\",\"parameterUnit\":\"C\"}},{\"startTime\":\"2021-11-29 06:00:00\",\"endTime\":\"2021-11-29 18:00:00\",\"parameter\":{\"parameterName\":\"26\",\"parameterUnit\":\"C\"}},{\"startTime\":\"2021-11-29 18:00:00\",\"endTime\":\"2021-11-30 06:00:00\",\"parameter\":{\"parameterName\":\"23\",\"parameterUnit\":\"C\"}}]}]},{\"locationName\":\"臺東縣\",\"weatherElement\":[{\"elementName\":\"Wx\",\"time\":[{\"startTime\":\"2021-11-28 18:00:00\",\"endTime\":\"2021-11-29 06:00:00\",\"parameter\":{\"parameterName\":\"陰時多雲短暫雨\",\"parameterValue\":\"10\"}},{\"startTime\":\"2021-11-29 06:00:00\",\"endTime\":\"2021-11-29 18:00:00\",\"parameter\":{\"parameterName\":\"多雲短暫雨\",\"parameterValue\":\"8\"}},{\"startTime\":\"2021-11-29 18:00:00\",\"endTime\":\"2021-11-30 06:00:00\",\"parameter\":{\"parameterName\":\"多雲短暫雨\",\"parameterValue\":\"8\"}}]},{\"elementName\":\"PoP\",\"time\":[{\"startTime\":\"2021-11-28 18:00:00\",\"endTime\":\"2021-11-29 06:00:00\",\"parameter\":{\"parameterName\":\"80\",\"parameterUnit\":\"百分比\"}},{\"startTime\":\"2021-11-29 06:00:00\",\"endTime\":\"2021-11-29 18:00:00\",\"parameter\":{\"parameterName\":\"80\",\"parameterUnit\":\"百分比\"}},{\"startTime\":\"2021-11-29 18:00:00\",\"endTime\":\"2021-11-30 06:00:00\",\"parameter\":{\"parameterName\":\"80\",\"parameterUnit\":\"百分比\"}}]},{\"elementName\":\"MinT\",\"time\":[{\"startTime\":\"2021-11-28 18:00:00\",\"endTime\":\"2021-11-29 06:00:00\",\"parameter\":{\"parameterName\":\"21\",\"parameterUnit\":\"C\"}},{\"startTime\":\"2021-11-29 06:00:00\",\"endTime\":\"2021-11-29 18:00:00\",\"parameter\":{\"parameterName\":\"21\",\"parameterUnit\":\"C\"}},{\"startTime\":\"2021-11-29 18:00:00\",\"endTime\":\"2021-11-30 06:00:00\",\"parameter\":{\"parameterName\":\"21\",\"parameterUnit\":\"C\"}}]},{\"elementName\":\"CI\",\"time\":[{\"startTime\":\"2021-11-28 18:00:00\",\"endTime\":\"2021-11-29 06:00:00\",\"parameter\":{\"parameterName\":\"舒適\"}},{\"startTime\":\"2021-11-29 06:00:00\",\"endTime\":\"2021-11-29 18:00:00\",\"parameter\":{\"parameterName\":\"舒適\"}},{\"startTime\":\"2021-11-29 18:00:00\",\"endTime\":\"2021-11-30 06:00:00\",\"parameter\":{\"parameterName\":\"舒適\"}}]},{\"elementName\":\"MaxT\",\"time\":[{\"startTime\":\"2021-11-28 18:00:00\",\"endTime\":\"2021-11-29 06:00:00\",\"parameter\":{\"parameterName\":\"23\",\"parameterUnit\":\"C\"}},{\"startTime\":\"2021-11-29 06:00:00\",\"endTime\":\"2021-11-29 18:00:00\",\"parameter\":{\"parameterName\":\"25\",\"parameterUnit\":\"C\"}},{\"startTime\":\"2021-11-29 18:00:00\",\"endTime\":\"2021-11-30 06:00:00\",\"parameter\":{\"parameterName\":\"22\",\"parameterUnit\":\"C\"}}]}]},{\"locationName\":\"桃園市\",\"weatherElement\":[{\"elementName\":\"Wx\",\"time\":[{\"startTime\":\"2021-11-28 18:00:00\",\"endTime\":\"2021-11-29 06:00:00\",\"parameter\":{\"parameterName\":\"陰時多雲短暫雨\",\"parameterValue\":\"10\"}},{\"startTime\":\"2021-11-29 06:00:00\",\"endTime\":\"2021-11-29 18:00:00\",\"parameter\":{\"parameterName\":\"多雲\",\"parameterValue\":\"4\"}},{\"startTime\":\"2021-11-29 18:00:00\",\"endTime\":\"2021-11-30 06:00:00\",\"parameter\":{\"parameterName\":\"多雲時陰短暫雨\",\"parameterValue\":\"9\"}}]},{\"elementName\":\"PoP\",\"time\":[{\"startTime\":\"2021-11-28 18:00:00\",\"endTime\":\"2021-11-29 06:00:00\",\"parameter\":{\"parameterName\":\"40\",\"parameterUnit\":\"百分比\"}},{\"startTime\":\"2021-11-29 06:00:00\",\"endTime\":\"2021-11-29 18:00:00\",\"parameter\":{\"parameterName\":\"20\",\"parameterUnit\":\"百分比\"}},{\"startTime\":\"2021-11-29 18:00:00\",\"endTime\":\"2021-11-30 06:00:00\",\"parameter\":{\"parameterName\":\"50\",\"parameterUnit\":\"百分比\"}}]},{\"elementName\":\"MinT\",\"time\":[{\"startTime\":\"2021-11-28 18:00:00\",\"endTime\":\"2021-11-29 06:00:00\",\"parameter\":{\"parameterName\":\"20\",\"parameterUnit\":\"C\"}},{\"startTime\":\"2021-11-29 06:00:00\",\"endTime\":\"2021-11-29 18:00:00\",\"parameter\":{\"parameterName\":\"20\",\"parameterUnit\":\"C\"}},{\"startTime\":\"2021-11-29 18:00:00\",\"endTime\":\"2021-11-30 06:00:00\",\"parameter\":{\"parameterName\":\"19\",\"parameterUnit\":\"C\"}}]},{\"elementName\":\"CI\",\"time\":[{\"startTime\":\"2021-11-28 18:00:00\",\"endTime\":\"2021-11-29 06:00:00\",\"parameter\":{\"parameterName\":\"舒適\"}},{\"startTime\":\"2021-11-29 06:00:00\",\"endTime\":\"2021-11-29 18:00:00\",\"parameter\":{\"parameterName\":\"舒適\"}},{\"startTime\":\"2021-11-29 18:00:00\",\"endTime\":\"2021-11-30 06:00:00\",\"parameter\":{\"parameterName\":\"稍有寒意至舒適\"}}]},{\"elementName\":\"MaxT\",\"time\":[{\"startTime\":\"2021-11-28 18:00:00\",\"endTime\":\"2021-11-29 06:00:00\",\"parameter\":{\"parameterName\":\"22\",\"parameterUnit\":\"C\"}},{\"startTime\":\"2021-11-29 06:00:00\",\"endTime\":\"2021-11-29 18:00:00\",\"parameter\":{\"parameterName\":\"25\",\"parameterUnit\":\"C\"}},{\"startTime\":\"2021-11-29 18:00:00\",\"endTime\":\"2021-11-30 06:00:00\",\"parameter\":{\"parameterName\":\"21\",\"parameterUnit\":\"C\"}}]}]},{\"locationName\":\"南投縣\",\"weatherElement\":[{\"elementName\":\"Wx\",\"time\":[{\"startTime\":\"2021-11-28 18:00:00\",\"endTime\":\"2021-11-29 06:00:00\",\"parameter\":{\"parameterName\":\"陰時多雲短暫雨\",\"parameterValue\":\"10\"}},{\"startTime\":\"2021-11-29 06:00:00\",\"endTime\":\"2021-11-29 18:00:00\",\"parameter\":{\"parameterName\":\"多雲短暫雨\",\"parameterValue\":\"8\"}},{\"startTime\":\"2021-11-29 18:00:00\",\"endTime\":\"2021-11-30 06:00:00\",\"parameter\":{\"parameterName\":\"陰時多雲\",\"parameterValue\":\"6\"}}]},{\"elementName\":\"PoP\",\"time\":[{\"startTime\":\"2021-11-28 18:00:00\",\"endTime\":\"2021-11-29 06:00:00\",\"parameter\":{\"parameterName\":\"40\",\"parameterUnit\":\"百分比\"}},{\"startTime\":\"2021-11-29 06:00:00\",\"endTime\":\"2021-11-29 18:00:00\",\"parameter\":{\"parameterName\":\"40\",\"parameterUnit\":\"百分比\"}},{\"startTime\":\"2021-11-29 18:00:00\",\"endTime\":\"2021-11-30 06:00:00\",\"parameter\":{\"parameterName\":\"20\",\"parameterUnit\":\"百分比\"}}]},{\"elementName\":\"MinT\",\"time\":[{\"startTime\":\"2021-11-28 18:00:00\",\"endTime\":\"2021-11-29 06:00:00\",\"parameter\":{\"parameterName\":\"21\",\"parameterUnit\":\"C\"}},{\"startTime\":\"2021-11-29 06:00:00\",\"endTime\":\"2021-11-29 18:00:00\",\"parameter\":{\"parameterName\":\"21\",\"parameterUnit\":\"C\"}},{\"startTime\":\"2021-11-29 18:00:00\",\"endTime\":\"2021-11-30 06:00:00\",\"parameter\":{\"parameterName\":\"20\",\"parameterUnit\":\"C\"}}]},{\"elementName\":\"CI\",\"time\":[{\"startTime\":\"2021-11-28 18:00:00\",\"endTime\":\"2021-11-29 06:00:00\",\"parameter\":{\"parameterName\":\"舒適\"}},{\"startTime\":\"2021-11-29 06:00:00\",\"endTime\":\"2021-11-29 18:00:00\",\"parameter\":{\"parameterName\":\"舒適\"}},{\"startTime\":\"2021-11-29 18:00:00\",\"endTime\":\"2021-11-30 06:00:00\",\"parameter\":{\"parameterName\":\"舒適\"}}]},{\"elementName\":\"MaxT\",\"time\":[{\"startTime\":\"2021-11-28 18:00:00\",\"endTime\":\"2021-11-29 06:00:00\",\"parameter\":{\"parameterName\":\"23\",\"parameterUnit\":\"C\"}},{\"startTime\":\"2021-11-29 06:00:00\",\"endTime\":\"2021-11-29 18:00:00\",\"parameter\":{\"parameterName\":\"26\",\"parameterUnit\":\"C\"}},{\"startTime\":\"2021-11-29 18:00:00\",\"endTime\":\"2021-11-30 06:00:00\",\"parameter\":{\"parameterName\":\"23\",\"parameterUnit\":\"C\"}}]}]},{\"locationName\":\"高雄市\",\"weatherElement\":[{\"elementName\":\"Wx\",\"time\":[{\"startTime\":\"2021-11-28 18:00:00\",\"endTime\":\"2021-11-29 06:00:00\",\"parameter\":{\"parameterName\":\"陰短暫雨\",\"parameterValue\":\"11\"}},{\"startTime\":\"2021-11-29 06:00:00\",\"endTime\":\"2021-11-29 18:00:00\",\"parameter\":{\"parameterName\":\"陰短暫雨\",\"parameterValue\":\"11\"}},{\"startTime\":\"2021-11-29 18:00:00\",\"endTime\":\"2021-11-30 06:00:00\",\"parameter\":{\"parameterName\":\"陰時多雲\",\"parameterValue\":\"6\"}}]},{\"elementName\":\"PoP\",\"time\":[{\"startTime\":\"2021-11-28 18:00:00\",\"endTime\":\"2021-11-29 06:00:00\",\"parameter\":{\"parameterName\":\"40\",\"parameterUnit\":\"百分比\"}},{\"startTime\":\"2021-11-29 06:00:00\",\"endTime\":\"2021-11-29 18:00:00\",\"parameter\":{\"parameterName\":\"40\",\"parameterUnit\":\"百分比\"}},{\"startTime\":\"2021-11-29 18:00:00\",\"endTime\":\"2021-11-30 06:00:00\",\"parameter\":{\"parameterName\":\"20\",\"parameterUnit\":\"百分比\"}}]},{\"elementName\":\"MinT\",\"time\":[{\"startTime\":\"2021-11-28 18:00:00\",\"endTime\":\"2021-11-29 06:00:00\",\"parameter\":{\"parameterName\":\"22\",\"parameterUnit\":\"C\"}},{\"startTime\":\"2021-11-29 06:00:00\",\"endTime\":\"2021-11-29 18:00:00\",\"parameter\":{\"parameterName\":\"22\",\"parameterUnit\":\"C\"}},{\"startTime\":\"2021-11-29 18:00:00\",\"endTime\":\"2021-11-30 06:00:00\",\"parameter\":{\"parameterName\":\"22\",\"parameterUnit\":\"C\"}}]},{\"elementName\":\"CI\",\"time\":[{\"startTime\":\"2021-11-28 18:00:00\",\"endTime\":\"2021-11-29 06:00:00\",\"parameter\":{\"parameterName\":\"舒適\"}},{\"startTime\":\"2021-11-29 06:00:00\",\"endTime\":\"2021-11-29 18:00:00\",\"parameter\":{\"parameterName\":\"舒適\"}},{\"startTime\":\"2021-11-29 18:00:00\",\"endTime\":\"2021-11-30 06:00:00\",\"parameter\":{\"parameterName\":\"舒適\"}}]},{\"elementName\":\"MaxT\",\"time\":[{\"startTime\":\"2021-11-28 18:00:00\",\"endTime\":\"2021-11-29 06:00:00\",\"parameter\":{\"parameterName\":\"25\",\"parameterUnit\":\"C\"}},{\"startTime\":\"2021-11-29 06:00:00\",\"endTime\":\"2021-11-29 18:00:00\",\"parameter\":{\"parameterName\":\"27\",\"parameterUnit\":\"C\"}},{\"startTime\":\"2021-11-29 18:00:00\",\"endTime\":\"2021-11-30 06:00:00\",\"parameter\":{\"parameterName\":\"25\",\"parameterUnit\":\"C\"}}]}]},{\"locationName\":\"金門縣\",\"weatherElement\":[{\"elementName\":\"Wx\",\"time\":[{\"startTime\":\"2021-11-28 18:00:00\",\"endTime\":\"2021-11-29 06:00:00\",\"parameter\":{\"parameterName\":\"陰天\",\"parameterValue\":\"7\"}},{\"startTime\":\"2021-11-29 06:00:00\",\"endTime\":\"2021-11-29 18:00:00\",\"parameter\":{\"parameterName\":\"多雲時陰\",\"parameterValue\":\"5\"}},{\"startTime\":\"2021-11-29 18:00:00\",\"endTime\":\"2021-11-30 06:00:00\",\"parameter\":{\"parameterName\":\"多雲\",\"parameterValue\":\"4\"}}]},{\"elementName\":\"PoP\",\"time\":[{\"startTime\":\"2021-11-28 18:00:00\",\"endTime\":\"2021-11-29 06:00:00\",\"parameter\":{\"parameterName\":\"20\",\"parameterUnit\":\"百分比\"}},{\"startTime\":\"2021-11-29 06:00:00\",\"endTime\":\"2021-11-29 18:00:00\",\"parameter\":{\"parameterName\":\"20\",\"parameterUnit\":\"百分比\"}},{\"startTime\":\"2021-11-29 18:00:00\",\"endTime\":\"2021-11-30 06:00:00\",\"parameter\":{\"parameterName\":\"20\",\"parameterUnit\":\"百分比\"}}]},{\"elementName\":\"MinT\",\"time\":[{\"startTime\":\"2021-11-28 18:00:00\",\"endTime\":\"2021-11-29 06:00:00\",\"parameter\":{\"parameterName\":\"19\",\"parameterUnit\":\"C\"}},{\"startTime\":\"2021-11-29 06:00:00\",\"endTime\":\"2021-11-29 18:00:00\",\"parameter\":{\"parameterName\":\"19\",\"parameterUnit\":\"C\"}},{\"startTime\":\"2021-11-29 18:00:00\",\"endTime\":\"2021-11-30 06:00:00\",\"parameter\":{\"parameterName\":\"18\",\"parameterUnit\":\"C\"}}]},{\"elementName\":\"CI\",\"time\":[{\"startTime\":\"2021-11-28 18:00:00\",\"endTime\":\"2021-11-29 06:00:00\",\"parameter\":{\"parameterName\":\"稍有寒意\"}},{\"startTime\":\"2021-11-29 06:00:00\",\"endTime\":\"2021-11-29 18:00:00\",\"parameter\":{\"parameterName\":\"稍有寒意至舒適\"}},{\"startTime\":\"2021-11-29 18:00:00\",\"endTime\":\"2021-11-30 06:00:00\",\"parameter\":{\"parameterName\":\"稍有寒意\"}}]},{\"elementName\":\"MaxT\",\"time\":[{\"startTime\":\"2021-11-28 18:00:00\",\"endTime\":\"2021-11-29 06:00:00\",\"parameter\":{\"parameterName\":\"20\",\"parameterUnit\":\"C\"}},{\"startTime\":\"2021-11-29 06:00:00\",\"endTime\":\"2021-11-29 18:00:00\",\"parameter\":{\"parameterName\":\"25\",\"parameterUnit\":\"C\"}},{\"startTime\":\"2021-11-29 18:00:00\",\"endTime\":\"2021-11-30 06:00:00\",\"parameter\":{\"parameterName\":\"20\",\"parameterUnit\":\"C\"}}]}]},{\"locationName\":\"屏東縣\",\"weatherElement\":[{\"elementName\":\"Wx\",\"time\":[{\"startTime\":\"2021-11-28 18:00:00\",\"endTime\":\"2021-11-29 06:00:00\",\"parameter\":{\"parameterName\":\"陰短暫雨\",\"parameterValue\":\"11\"}},{\"startTime\":\"2021-11-29 06:00:00\",\"endTime\":\"2021-11-29 18:00:00\",\"parameter\":{\"parameterName\":\"陰短暫雨\",\"parameterValue\":\"11\"}},{\"startTime\":\"2021-11-29 18:00:00\",\"endTime\":\"2021-11-30 06:00:00\",\"parameter\":{\"parameterName\":\"陰時多雲\",\"parameterValue\":\"6\"}}]},{\"elementName\":\"PoP\",\"time\":[{\"startTime\":\"2021-11-28 18:00:00\",\"endTime\":\"2021-11-29 06:00:00\",\"parameter\":{\"parameterName\":\"40\",\"parameterUnit\":\"百分比\"}},{\"startTime\":\"2021-11-29 06:00:00\",\"endTime\":\"2021-11-29 18:00:00\",\"parameter\":{\"parameterName\":\"50\",\"parameterUnit\":\"百分比\"}},{\"startTime\":\"2021-11-29 18:00:00\",\"endTime\":\"2021-11-30 06:00:00\",\"parameter\":{\"parameterName\":\"20\",\"parameterUnit\":\"百分比\"}}]},{\"elementName\":\"MinT\",\"time\":[{\"startTime\":\"2021-11-28 18:00:00\",\"endTime\":\"2021-11-29 06:00:00\",\"parameter\":{\"parameterName\":\"21\",\"parameterUnit\":\"C\"}},{\"startTime\":\"2021-11-29 06:00:00\",\"endTime\":\"2021-11-29 18:00:00\",\"parameter\":{\"parameterName\":\"21\",\"parameterUnit\":\"C\"}},{\"startTime\":\"2021-11-29 18:00:00\",\"endTime\":\"2021-11-30 06:00:00\",\"parameter\":{\"parameterName\":\"21\",\"parameterUnit\":\"C\"}}]},{\"elementName\":\"CI\",\"time\":[{\"startTime\":\"2021-11-28 18:00:00\",\"endTime\":\"2021-11-29 06:00:00\",\"parameter\":{\"parameterName\":\"舒適\"}},{\"startTime\":\"2021-11-29 06:00:00\",\"endTime\":\"2021-11-29 18:00:00\",\"parameter\":{\"parameterName\":\"舒適\"}},{\"startTime\":\"2021-11-29 18:00:00\",\"endTime\":\"2021-11-30 06:00:00\",\"parameter\":{\"parameterName\":\"舒適\"}}]},{\"elementName\":\"MaxT\",\"time\":[{\"startTime\":\"2021-11-28 18:00:00\",\"endTime\":\"2021-11-29 06:00:00\",\"parameter\":{\"parameterName\":\"25\",\"parameterUnit\":\"C\"}},{\"startTime\":\"2021-11-29 06:00:00\",\"endTime\":\"2021-11-29 18:00:00\",\"parameter\":{\"parameterName\":\"28\",\"parameterUnit\":\"C\"}},{\"startTime\":\"2021-11-29 18:00:00\",\"endTime\":\"2021-11-30 06:00:00\",\"parameter\":{\"parameterName\":\"25\",\"parameterUnit\":\"C\"}}]}]},{\"locationName\":\"基隆市\",\"weatherElement\":[{\"elementName\":\"Wx\",\"time\":[{\"startTime\":\"2021-11-28 18:00:00\",\"endTime\":\"2021-11-29 06:00:00\",\"parameter\":{\"parameterName\":\"陰時多雲短暫雨\",\"parameterValue\":\"10\"}},{\"startTime\":\"2021-11-29 06:00:00\",\"endTime\":\"2021-11-29 18:00:00\",\"parameter\":{\"parameterName\":\"多雲短暫雨\",\"parameterValue\":\"8\"}},{\"startTime\":\"2021-11-29 18:00:00\",\"endTime\":\"2021-11-30 06:00:00\",\"parameter\":{\"parameterName\":\"多雲時陰短暫雨\",\"parameterValue\":\"9\"}}]},{\"elementName\":\"PoP\",\"time\":[{\"startTime\":\"2021-11-28 18:00:00\",\"endTime\":\"2021-11-29 06:00:00\",\"parameter\":{\"parameterName\":\"60\",\"parameterUnit\":\"百分比\"}},{\"startTime\":\"2021-11-29 06:00:00\",\"endTime\":\"2021-11-29 18:00:00\",\"parameter\":{\"parameterName\":\"40\",\"parameterUnit\":\"百分比\"}},{\"startTime\":\"2021-11-29 18:00:00\",\"endTime\":\"2021-11-30 06:00:00\",\"parameter\":{\"parameterName\":\"40\",\"parameterUnit\":\"百分比\"}}]},{\"elementName\":\"MinT\",\"time\":[{\"startTime\":\"2021-11-28 18:00:00\",\"endTime\":\"2021-11-29 06:00:00\",\"parameter\":{\"parameterName\":\"20\",\"parameterUnit\":\"C\"}},{\"startTime\":\"2021-11-29 06:00:00\",\"endTime\":\"2021-11-29 18:00:00\",\"parameter\":{\"parameterName\":\"20\",\"parameterUnit\":\"C\"}},{\"startTime\":\"2021-11-29 18:00:00\",\"endTime\":\"2021-11-30 06:00:00\",\"parameter\":{\"parameterName\":\"19\",\"parameterUnit\":\"C\"}}]},{\"elementName\":\"CI\",\"time\":[{\"startTime\":\"2021-11-28 18:00:00\",\"endTime\":\"2021-11-29 06:00:00\",\"parameter\":{\"parameterName\":\"舒適\"}},{\"startTime\":\"2021-11-29 06:00:00\",\"endTime\":\"2021-11-29 18:00:00\",\"parameter\":{\"parameterName\":\"舒適\"}},{\"startTime\":\"2021-11-29 18:00:00\",\"endTime\":\"2021-11-30 06:00:00\",\"parameter\":{\"parameterName\":\"稍有寒意至舒適\"}}]},{\"elementName\":\"MaxT\",\"time\":[{\"startTime\":\"2021-11-28 18:00:00\",\"endTime\":\"2021-11-29 06:00:00\",\"parameter\":{\"parameterName\":\"21\",\"parameterUnit\":\"C\"}},{\"startTime\":\"2021-11-29 06:00:00\",\"endTime\":\"2021-11-29 18:00:00\",\"parameter\":{\"parameterName\":\"23\",\"parameterUnit\":\"C\"}},{\"startTime\":\"2021-11-29 18:00:00\",\"endTime\":\"2021-11-30 06:00:00\",\"parameter\":{\"parameterName\":\"21\",\"parameterUnit\":\"C\"}}]}]},{\"locationName\":\"澎湖縣\",\"weatherElement\":[{\"elementName\":\"Wx\",\"time\":[{\"startTime\":\"2021-11-28 18:00:00\",\"endTime\":\"2021-11-29 06:00:00\",\"parameter\":{\"parameterName\":\"陰時多雲短暫雨\",\"parameterValue\":\"10\"}},{\"startTime\":\"2021-11-29 06:00:00\",\"endTime\":\"2021-11-29 18:00:00\",\"parameter\":{\"parameterName\":\"多雲\",\"parameterValue\":\"4\"}},{\"startTime\":\"2021-11-29 18:00:00\",\"endTime\":\"2021-11-30 06:00:00\",\"parameter\":{\"parameterName\":\"多雲時陰\",\"parameterValue\":\"5\"}}]},{\"elementName\":\"PoP\",\"time\":[{\"startTime\":\"2021-11-28 18:00:00\",\"endTime\":\"2021-11-29 06:00:00\",\"parameter\":{\"parameterName\":\"40\",\"parameterUnit\":\"百分比\"}},{\"startTime\":\"2021-11-29 06:00:00\",\"endTime\":\"2021-11-29 18:00:00\",\"parameter\":{\"parameterName\":\"20\",\"parameterUnit\":\"百分比\"}},{\"startTime\":\"2021-11-29 18:00:00\",\"endTime\":\"2021-11-30 06:00:00\",\"parameter\":{\"parameterName\":\"20\",\"parameterUnit\":\"百分比\"}}]},{\"elementName\":\"MinT\",\"time\":[{\"startTime\":\"2021-11-28 18:00:00\",\"endTime\":\"2021-11-29 06:00:00\",\"parameter\":{\"parameterName\":\"21\",\"parameterUnit\":\"C\"}},{\"startTime\":\"2021-11-29 06:00:00\",\"endTime\":\"2021-11-29 18:00:00\",\"parameter\":{\"parameterName\":\"21\",\"parameterUnit\":\"C\"}},{\"startTime\":\"2021-11-29 18:00:00\",\"endTime\":\"2021-11-30 06:00:00\",\"parameter\":{\"parameterName\":\"21\",\"parameterUnit\":\"C\"}}]},{\"elementName\":\"CI\",\"time\":[{\"startTime\":\"2021-11-28 18:00:00\",\"endTime\":\"2021-11-29 06:00:00\",\"parameter\":{\"parameterName\":\"舒適\"}},{\"startTime\":\"2021-11-29 06:00:00\",\"endTime\":\"2021-11-29 18:00:00\",\"parameter\":{\"parameterName\":\"舒適\"}},{\"startTime\":\"2021-11-29 18:00:00\",\"endTime\":\"2021-11-30 06:00:00\",\"parameter\":{\"parameterName\":\"舒適\"}}]},{\"elementName\":\"MaxT\",\"time\":[{\"startTime\":\"2021-11-28 18:00:00\",\"endTime\":\"2021-11-29 06:00:00\",\"parameter\":{\"parameterName\":\"22\",\"parameterUnit\":\"C\"}},{\"startTime\":\"2021-11-29 06:00:00\",\"endTime\":\"2021-11-29 18:00:00\",\"parameter\":{\"parameterName\":\"24\",\"parameterUnit\":\"C\"}},{\"startTime\":\"2021-11-29 18:00:00\",\"endTime\":\"2021-11-30 06:00:00\",\"parameter\":{\"parameterName\":\"22\",\"parameterUnit\":\"C\"}}]}]},{\"locationName\":\"彰化縣\",\"weatherElement\":[{\"elementName\":\"Wx\",\"time\":[{\"startTime\":\"2021-11-28 18:00:00\",\"endTime\":\"2021-11-29 06:00:00\",\"parameter\":{\"parameterName\":\"陰時多雲短暫雨\",\"parameterValue\":\"10\"}},{\"startTime\":\"2021-11-29 06:00:00\",\"endTime\":\"2021-11-29 18:00:00\",\"parameter\":{\"parameterName\":\"多雲\",\"parameterValue\":\"4\"}},{\"startTime\":\"2021-11-29 18:00:00\",\"endTime\":\"2021-11-30 06:00:00\",\"parameter\":{\"parameterName\":\"多雲時陰\",\"parameterValue\":\"5\"}}]},{\"elementName\":\"PoP\",\"time\":[{\"startTime\":\"2021-11-28 18:00:00\",\"endTime\":\"2021-11-29 06:00:00\",\"parameter\":{\"parameterName\":\"40\",\"parameterUnit\":\"百分比\"}},{\"startTime\":\"2021-11-29 06:00:00\",\"endTime\":\"2021-11-29 18:00:00\",\"parameter\":{\"parameterName\":\"20\",\"parameterUnit\":\"百分比\"}},{\"startTime\":\"2021-11-29 18:00:00\",\"endTime\":\"2021-11-30 06:00:00\",\"parameter\":{\"parameterName\":\"20\",\"parameterUnit\":\"百分比\"}}]},{\"elementName\":\"MinT\",\"time\":[{\"startTime\":\"2021-11-28 18:00:00\",\"endTime\":\"2021-11-29 06:00:00\",\"parameter\":{\"parameterName\":\"21\",\"parameterUnit\":\"C\"}},{\"startTime\":\"2021-11-29 06:00:00\",\"endTime\":\"2021-11-29 18:00:00\",\"parameter\":{\"parameterName\":\"21\",\"parameterUnit\":\"C\"}},{\"startTime\":\"2021-11-29 18:00:00\",\"endTime\":\"2021-11-30 06:00:00\",\"parameter\":{\"parameterName\":\"21\",\"parameterUnit\":\"C\"}}]},{\"elementName\":\"CI\",\"time\":[{\"startTime\":\"2021-11-28 18:00:00\",\"endTime\":\"2021-11-29 06:00:00\",\"parameter\":{\"parameterName\":\"舒適\"}},{\"startTime\":\"2021-11-29 06:00:00\",\"endTime\":\"2021-11-29 18:00:00\",\"parameter\":{\"parameterName\":\"舒適\"}},{\"startTime\":\"2021-11-29 18:00:00\",\"endTime\":\"2021-11-30 06:00:00\",\"parameter\":{\"parameterName\":\"舒適\"}}]},{\"elementName\":\"MaxT\",\"time\":[{\"startTime\":\"2021-11-28 18:00:00\",\"endTime\":\"2021-11-29 06:00:00\",\"parameter\":{\"parameterName\":\"23\",\"parameterUnit\":\"C\"}},{\"startTime\":\"2021-11-29 06:00:00\",\"endTime\":\"2021-11-29 18:00:00\",\"parameter\":{\"parameterName\":\"26\",\"parameterUnit\":\"C\"}},{\"startTime\":\"2021-11-29 18:00:00\",\"endTime\":\"2021-11-30 06:00:00\",\"parameter\":{\"parameterName\":\"23\",\"parameterUnit\":\"C\"}}]}]},{\"locationName\":\"連江縣\",\"weatherElement\":[{\"elementName\":\"Wx\",\"time\":[{\"startTime\":\"2021-11-28 18:00:00\",\"endTime\":\"2021-11-29 06:00:00\",\"parameter\":{\"parameterName\":\"陰短暫雨\",\"parameterValue\":\"11\"}},{\"startTime\":\"2021-11-29 06:00:00\",\"endTime\":\"2021-11-29 18:00:00\",\"parameter\":{\"parameterName\":\"陰短暫雨\",\"parameterValue\":\"11\"}},{\"startTime\":\"2021-11-29 18:00:00\",\"endTime\":\"2021-11-30 06:00:00\",\"parameter\":{\"parameterName\":\"陰時多雲\",\"parameterValue\":\"6\"}}]},{\"elementName\":\"PoP\",\"time\":[{\"startTime\":\"2021-11-28 18:00:00\",\"endTime\":\"2021-11-29 06:00:00\",\"parameter\":{\"parameterName\":\"50\",\"parameterUnit\":\"百分比\"}},{\"startTime\":\"2021-11-29 06:00:00\",\"endTime\":\"2021-11-29 18:00:00\",\"parameter\":{\"parameterName\":\"40\",\"parameterUnit\":\"百分比\"}},{\"startTime\":\"2021-11-29 18:00:00\",\"endTime\":\"2021-11-30 06:00:00\",\"parameter\":{\"parameterName\":\"20\",\"parameterUnit\":\"百分比\"}}]},{\"elementName\":\"MinT\",\"time\":[{\"startTime\":\"2021-11-28 18:00:00\",\"endTime\":\"2021-11-29 06:00:00\",\"parameter\":{\"parameterName\":\"17\",\"parameterUnit\":\"C\"}},{\"startTime\":\"2021-11-29 06:00:00\",\"endTime\":\"2021-11-29 18:00:00\",\"parameter\":{\"parameterName\":\"17\",\"parameterUnit\":\"C\"}},{\"startTime\":\"2021-11-29 18:00:00\",\"endTime\":\"2021-11-30 06:00:00\",\"parameter\":{\"parameterName\":\"18\",\"parameterUnit\":\"C\"}}]},{\"elementName\":\"CI\",\"time\":[{\"startTime\":\"2021-11-28 18:00:00\",\"endTime\":\"2021-11-29 06:00:00\",\"parameter\":{\"parameterName\":\"稍有寒意\"}},{\"startTime\":\"2021-11-29 06:00:00\",\"endTime\":\"2021-11-29 18:00:00\",\"parameter\":{\"parameterName\":\"稍有寒意至舒適\"}},{\"startTime\":\"2021-11-29 18:00:00\",\"endTime\":\"2021-11-30 06:00:00\",\"parameter\":{\"parameterName\":\"稍有寒意\"}}]},{\"elementName\":\"MaxT\",\"time\":[{\"startTime\":\"2021-11-28 18:00:00\",\"endTime\":\"2021-11-29 06:00:00\",\"parameter\":{\"parameterName\":\"18\",\"parameterUnit\":\"C\"}},{\"startTime\":\"2021-11-29 06:00:00\",\"endTime\":\"2021-11-29 18:00:00\",\"parameter\":{\"parameterName\":\"21\",\"parameterUnit\":\"C\"}},{\"startTime\":\"2021-11-29 18:00:00\",\"endTime\":\"2021-11-30 06:00:00\",\"parameter\":{\"parameterName\":\"19\",\"parameterUnit\":\"C\"}}]}]}]}}\n"
     ]
    }
   ],
   "source": [
    "url = \"https://opendata.cwb.gov.tw/api/v1/rest/datastore/F-C0032-001?Authorization=CWB-12969A32-B2CD-4853-8252-EFFA08D64A1B\"\n",
    "res = requests.get(url)\n",
    "print(res.text)\n",
    "\n",
    "#print(json.dumps(json.loads(res.text))) #把json重包"
   ]
  },
  {
   "cell_type": "markdown",
   "metadata": {},
   "source": [
    "## data analysis"
   ]
  },
  {
   "cell_type": "code",
   "execution_count": 4,
   "metadata": {
    "scrolled": false
   },
   "outputs": [
    {
     "name": "stdout",
     "output_type": "stream",
     "text": [
      "\n",
      "縣市： 嘉義縣\n",
      "2021-11-28 18:00:00 2021-11-29 06:00:00 陰短暫雨\n",
      "2021-11-29 06:00:00 2021-11-29 18:00:00 多雲時陰短暫雨\n",
      "2021-11-29 18:00:00 2021-11-30 06:00:00 陰時多雲\n",
      "\n",
      "縣市： 新北市\n",
      "2021-11-28 18:00:00 2021-11-29 06:00:00 陰時多雲短暫雨\n",
      "2021-11-29 06:00:00 2021-11-29 18:00:00 多雲\n",
      "2021-11-29 18:00:00 2021-11-30 06:00:00 多雲時陰短暫雨\n",
      "\n",
      "縣市： 嘉義市\n",
      "2021-11-28 18:00:00 2021-11-29 06:00:00 陰時多雲短暫雨\n",
      "2021-11-29 06:00:00 2021-11-29 18:00:00 多雲短暫雨\n",
      "2021-11-29 18:00:00 2021-11-30 06:00:00 陰時多雲\n",
      "\n",
      "縣市： 新竹縣\n",
      "2021-11-28 18:00:00 2021-11-29 06:00:00 陰時多雲\n",
      "2021-11-29 06:00:00 2021-11-29 18:00:00 多雲\n",
      "2021-11-29 18:00:00 2021-11-30 06:00:00 多雲時陰短暫雨\n",
      "\n",
      "縣市： 新竹市\n",
      "2021-11-28 18:00:00 2021-11-29 06:00:00 陰時多雲\n",
      "2021-11-29 06:00:00 2021-11-29 18:00:00 多雲\n",
      "2021-11-29 18:00:00 2021-11-30 06:00:00 多雲時陰短暫雨\n",
      "\n",
      "縣市： 臺北市\n",
      "2021-11-28 18:00:00 2021-11-29 06:00:00 陰時多雲短暫雨\n",
      "2021-11-29 06:00:00 2021-11-29 18:00:00 多雲時陰\n",
      "2021-11-29 18:00:00 2021-11-30 06:00:00 多雲短暫雨\n",
      "\n",
      "縣市： 臺南市\n",
      "2021-11-28 18:00:00 2021-11-29 06:00:00 陰短暫雨\n",
      "2021-11-29 06:00:00 2021-11-29 18:00:00 陰短暫雨\n",
      "2021-11-29 18:00:00 2021-11-30 06:00:00 陰時多雲\n",
      "\n",
      "縣市： 宜蘭縣\n",
      "2021-11-28 18:00:00 2021-11-29 06:00:00 陰短暫雨\n",
      "2021-11-29 06:00:00 2021-11-29 18:00:00 陰時多雲短暫雨\n",
      "2021-11-29 18:00:00 2021-11-30 06:00:00 多雲時陰短暫雨\n",
      "\n",
      "縣市： 苗栗縣\n",
      "2021-11-28 18:00:00 2021-11-29 06:00:00 陰時多雲\n",
      "2021-11-29 06:00:00 2021-11-29 18:00:00 多雲\n",
      "2021-11-29 18:00:00 2021-11-30 06:00:00 陰短暫雨\n",
      "\n",
      "縣市： 雲林縣\n",
      "2021-11-28 18:00:00 2021-11-29 06:00:00 陰時多雲短暫雨\n",
      "2021-11-29 06:00:00 2021-11-29 18:00:00 多雲短暫雨\n",
      "2021-11-29 18:00:00 2021-11-30 06:00:00 陰時多雲\n",
      "\n",
      "縣市： 花蓮縣\n",
      "2021-11-28 18:00:00 2021-11-29 06:00:00 陰時多雲短暫雨\n",
      "2021-11-29 06:00:00 2021-11-29 18:00:00 陰時多雲短暫雨\n",
      "2021-11-29 18:00:00 2021-11-30 06:00:00 多雲短暫雨\n",
      "\n",
      "縣市： 臺中市\n",
      "2021-11-28 18:00:00 2021-11-29 06:00:00 陰時多雲短暫雨\n",
      "2021-11-29 06:00:00 2021-11-29 18:00:00 多雲\n",
      "2021-11-29 18:00:00 2021-11-30 06:00:00 多雲時陰\n",
      "\n",
      "縣市： 臺東縣\n",
      "2021-11-28 18:00:00 2021-11-29 06:00:00 陰時多雲短暫雨\n",
      "2021-11-29 06:00:00 2021-11-29 18:00:00 多雲短暫雨\n",
      "2021-11-29 18:00:00 2021-11-30 06:00:00 多雲短暫雨\n",
      "\n",
      "縣市： 桃園市\n",
      "2021-11-28 18:00:00 2021-11-29 06:00:00 陰時多雲短暫雨\n",
      "2021-11-29 06:00:00 2021-11-29 18:00:00 多雲\n",
      "2021-11-29 18:00:00 2021-11-30 06:00:00 多雲時陰短暫雨\n",
      "\n",
      "縣市： 南投縣\n",
      "2021-11-28 18:00:00 2021-11-29 06:00:00 陰時多雲短暫雨\n",
      "2021-11-29 06:00:00 2021-11-29 18:00:00 多雲短暫雨\n",
      "2021-11-29 18:00:00 2021-11-30 06:00:00 陰時多雲\n",
      "\n",
      "縣市： 高雄市\n",
      "2021-11-28 18:00:00 2021-11-29 06:00:00 陰短暫雨\n",
      "2021-11-29 06:00:00 2021-11-29 18:00:00 陰短暫雨\n",
      "2021-11-29 18:00:00 2021-11-30 06:00:00 陰時多雲\n",
      "\n",
      "縣市： 金門縣\n",
      "2021-11-28 18:00:00 2021-11-29 06:00:00 陰天\n",
      "2021-11-29 06:00:00 2021-11-29 18:00:00 多雲時陰\n",
      "2021-11-29 18:00:00 2021-11-30 06:00:00 多雲\n",
      "\n",
      "縣市： 屏東縣\n",
      "2021-11-28 18:00:00 2021-11-29 06:00:00 陰短暫雨\n",
      "2021-11-29 06:00:00 2021-11-29 18:00:00 陰短暫雨\n",
      "2021-11-29 18:00:00 2021-11-30 06:00:00 陰時多雲\n",
      "\n",
      "縣市： 基隆市\n",
      "2021-11-28 18:00:00 2021-11-29 06:00:00 陰時多雲短暫雨\n",
      "2021-11-29 06:00:00 2021-11-29 18:00:00 多雲短暫雨\n",
      "2021-11-29 18:00:00 2021-11-30 06:00:00 多雲時陰短暫雨\n",
      "\n",
      "縣市： 澎湖縣\n",
      "2021-11-28 18:00:00 2021-11-29 06:00:00 陰時多雲短暫雨\n",
      "2021-11-29 06:00:00 2021-11-29 18:00:00 多雲\n",
      "2021-11-29 18:00:00 2021-11-30 06:00:00 多雲時陰\n",
      "\n",
      "縣市： 彰化縣\n",
      "2021-11-28 18:00:00 2021-11-29 06:00:00 陰時多雲短暫雨\n",
      "2021-11-29 06:00:00 2021-11-29 18:00:00 多雲\n",
      "2021-11-29 18:00:00 2021-11-30 06:00:00 多雲時陰\n",
      "\n",
      "縣市： 連江縣\n",
      "2021-11-28 18:00:00 2021-11-29 06:00:00 陰短暫雨\n",
      "2021-11-29 06:00:00 2021-11-29 18:00:00 陰短暫雨\n",
      "2021-11-29 18:00:00 2021-11-30 06:00:00 陰時多雲\n"
     ]
    }
   ],
   "source": [
    "data = json.loads(res.text)\n",
    "\n",
    "for location in data['records']['location']:\n",
    "    print('\\n縣市：', location['locationName'])\n",
    "    \n",
    "    for info in location['weatherElement'][0]['time']:\n",
    "        st_time = info['startTime']\n",
    "        et_time = info['endTime']\n",
    "        parameterName = info['parameter']['parameterName']\n",
    "        print(st_time, et_time, parameterName)"
   ]
  },
  {
   "cell_type": "markdown",
   "metadata": {},
   "source": [
    "## Line Notify"
   ]
  },
  {
   "cell_type": "code",
   "execution_count": 5,
   "metadata": {},
   "outputs": [],
   "source": [
    "def push_msg(msg):\n",
    "    # 公式包\n",
    "    headers = {\n",
    "        \"Authorization\": \"Bearer \" + token,\n",
    "        \"Content-Type\": \"application/x-www-form-urlencoded\"\n",
    "    }\n",
    "\n",
    "    payload = {'message': str(msg)}\n",
    "    res = requests.post(\"https://notify-api.line.me/api/notify\", headers=headers, params=payload)"
   ]
  },
  {
   "cell_type": "code",
   "execution_count": 6,
   "metadata": {},
   "outputs": [],
   "source": [
    "push_msg('this is test')"
   ]
  },
  {
   "cell_type": "markdown",
   "metadata": {},
   "source": [
    "### 定時推撥"
   ]
  },
  {
   "cell_type": "code",
   "execution_count": null,
   "metadata": {},
   "outputs": [
    {
     "name": "stdout",
     "output_type": "stream",
     "text": [
      "\n",
      "縣市： 嘉義縣\n",
      "2021-11-28 18:00:00 2021-11-29 06:00:00 陰短暫雨\n",
      "2021-11-29 06:00:00 2021-11-29 18:00:00 多雲時陰短暫雨\n",
      "2021-11-29 18:00:00 2021-11-30 06:00:00 陰時多雲\n",
      "\n",
      "縣市： 新北市\n",
      "2021-11-28 18:00:00 2021-11-29 06:00:00 陰時多雲短暫雨\n",
      "2021-11-29 06:00:00 2021-11-29 18:00:00 多雲\n",
      "2021-11-29 18:00:00 2021-11-30 06:00:00 多雲時陰短暫雨\n",
      "\n",
      "縣市： 嘉義市\n",
      "2021-11-28 18:00:00 2021-11-29 06:00:00 陰時多雲短暫雨\n",
      "2021-11-29 06:00:00 2021-11-29 18:00:00 多雲短暫雨\n",
      "2021-11-29 18:00:00 2021-11-30 06:00:00 陰時多雲\n",
      "\n",
      "縣市： 新竹縣\n",
      "2021-11-28 18:00:00 2021-11-29 06:00:00 陰時多雲\n",
      "2021-11-29 06:00:00 2021-11-29 18:00:00 多雲\n",
      "2021-11-29 18:00:00 2021-11-30 06:00:00 多雲時陰短暫雨\n",
      "\n",
      "縣市： 新竹市\n",
      "2021-11-28 18:00:00 2021-11-29 06:00:00 陰時多雲\n",
      "2021-11-29 06:00:00 2021-11-29 18:00:00 多雲\n",
      "2021-11-29 18:00:00 2021-11-30 06:00:00 多雲時陰短暫雨\n",
      "\n",
      "縣市： 臺北市\n",
      "2021-11-28 18:00:00 2021-11-29 06:00:00 陰時多雲短暫雨\n",
      "2021-11-29 06:00:00 2021-11-29 18:00:00 多雲時陰\n",
      "2021-11-29 18:00:00 2021-11-30 06:00:00 多雲短暫雨\n",
      "\n",
      "縣市： 臺南市\n",
      "2021-11-28 18:00:00 2021-11-29 06:00:00 陰短暫雨\n",
      "2021-11-29 06:00:00 2021-11-29 18:00:00 陰短暫雨\n",
      "2021-11-29 18:00:00 2021-11-30 06:00:00 陰時多雲\n",
      "\n",
      "縣市： 宜蘭縣\n",
      "2021-11-28 18:00:00 2021-11-29 06:00:00 陰短暫雨\n",
      "2021-11-29 06:00:00 2021-11-29 18:00:00 陰時多雲短暫雨\n",
      "2021-11-29 18:00:00 2021-11-30 06:00:00 多雲時陰短暫雨\n",
      "\n",
      "縣市： 苗栗縣\n",
      "2021-11-28 18:00:00 2021-11-29 06:00:00 陰時多雲\n",
      "2021-11-29 06:00:00 2021-11-29 18:00:00 多雲\n",
      "2021-11-29 18:00:00 2021-11-30 06:00:00 陰短暫雨\n",
      "\n",
      "縣市： 雲林縣\n",
      "2021-11-28 18:00:00 2021-11-29 06:00:00 陰時多雲短暫雨\n",
      "2021-11-29 06:00:00 2021-11-29 18:00:00 多雲短暫雨\n",
      "2021-11-29 18:00:00 2021-11-30 06:00:00 陰時多雲\n",
      "\n",
      "縣市： 花蓮縣\n",
      "2021-11-28 18:00:00 2021-11-29 06:00:00 陰時多雲短暫雨\n",
      "2021-11-29 06:00:00 2021-11-29 18:00:00 陰時多雲短暫雨\n",
      "2021-11-29 18:00:00 2021-11-30 06:00:00 多雲短暫雨\n",
      "\n",
      "縣市： 臺中市\n",
      "2021-11-28 18:00:00 2021-11-29 06:00:00 陰時多雲短暫雨\n",
      "2021-11-29 06:00:00 2021-11-29 18:00:00 多雲\n",
      "2021-11-29 18:00:00 2021-11-30 06:00:00 多雲時陰\n",
      "\n",
      "縣市： 臺東縣\n",
      "2021-11-28 18:00:00 2021-11-29 06:00:00 陰時多雲短暫雨\n",
      "2021-11-29 06:00:00 2021-11-29 18:00:00 多雲短暫雨\n",
      "2021-11-29 18:00:00 2021-11-30 06:00:00 多雲短暫雨\n",
      "\n",
      "縣市： 桃園市\n",
      "2021-11-28 18:00:00 2021-11-29 06:00:00 陰時多雲短暫雨\n",
      "2021-11-29 06:00:00 2021-11-29 18:00:00 多雲\n",
      "2021-11-29 18:00:00 2021-11-30 06:00:00 多雲時陰短暫雨\n",
      "\n",
      "縣市： 南投縣\n",
      "2021-11-28 18:00:00 2021-11-29 06:00:00 陰時多雲短暫雨\n",
      "2021-11-29 06:00:00 2021-11-29 18:00:00 多雲短暫雨\n",
      "2021-11-29 18:00:00 2021-11-30 06:00:00 陰時多雲\n",
      "\n",
      "縣市： 高雄市\n",
      "2021-11-28 18:00:00 2021-11-29 06:00:00 陰短暫雨\n",
      "2021-11-29 06:00:00 2021-11-29 18:00:00 陰短暫雨\n",
      "2021-11-29 18:00:00 2021-11-30 06:00:00 陰時多雲\n",
      "\n",
      "縣市： 金門縣\n",
      "2021-11-28 18:00:00 2021-11-29 06:00:00 陰天\n",
      "2021-11-29 06:00:00 2021-11-29 18:00:00 多雲時陰\n",
      "2021-11-29 18:00:00 2021-11-30 06:00:00 多雲\n",
      "\n",
      "縣市： 屏東縣\n",
      "2021-11-28 18:00:00 2021-11-29 06:00:00 陰短暫雨\n",
      "2021-11-29 06:00:00 2021-11-29 18:00:00 陰短暫雨\n",
      "2021-11-29 18:00:00 2021-11-30 06:00:00 陰時多雲\n",
      "\n",
      "縣市： 基隆市\n",
      "2021-11-28 18:00:00 2021-11-29 06:00:00 陰時多雲短暫雨\n",
      "2021-11-29 06:00:00 2021-11-29 18:00:00 多雲短暫雨\n",
      "2021-11-29 18:00:00 2021-11-30 06:00:00 多雲時陰短暫雨\n",
      "\n",
      "縣市： 澎湖縣\n",
      "2021-11-28 18:00:00 2021-11-29 06:00:00 陰時多雲短暫雨\n",
      "2021-11-29 06:00:00 2021-11-29 18:00:00 多雲\n",
      "2021-11-29 18:00:00 2021-11-30 06:00:00 多雲時陰\n",
      "\n",
      "縣市： 彰化縣\n",
      "2021-11-28 18:00:00 2021-11-29 06:00:00 陰時多雲短暫雨\n",
      "2021-11-29 06:00:00 2021-11-29 18:00:00 多雲\n",
      "2021-11-29 18:00:00 2021-11-30 06:00:00 多雲時陰\n",
      "\n",
      "縣市： 連江縣\n",
      "2021-11-28 18:00:00 2021-11-29 06:00:00 陰短暫雨\n",
      "2021-11-29 06:00:00 2021-11-29 18:00:00 陰短暫雨\n",
      "2021-11-29 18:00:00 2021-11-30 06:00:00 陰時多雲\n"
     ]
    }
   ],
   "source": [
    "def get_taipei():\n",
    "    url = 'https://opendata.cwb.gov.tw/api/v1/rest/datastore/F-C0032-001?Authorization=CWB-C3E80321-04F3-4A6C-B59B-42D6708E1133'\n",
    "    res = requests.get(url)\n",
    "    data = json.loads(res.text)\n",
    "    \n",
    "    msg = '\\n臺北市:'\n",
    "\n",
    "    for location in data['records']['location']:\n",
    "        print('\\n縣市：', location['locationName'])\n",
    "\n",
    "        for info in location['weatherElement'][0]['time']:\n",
    "            if '臺北市' in location['locationName']:\n",
    "                msg += '\\n\\n'\n",
    "                msg += '{}\\n{}\\n{}'.format(st_time, et_time, parameterName)\n",
    "                \n",
    "            st_time = info['startTime']\n",
    "            et_time = info['endTime']\n",
    "            parameterName = info['parameter']['parameterName']\n",
    "            print(st_time, et_time, parameterName)\n",
    "            \n",
    "    return msg\n",
    "\n",
    "\n",
    "while True:\n",
    "    msg = get_taipei()\n",
    "    push_msg(msg)\n",
    "    time.sleep(60)"
   ]
  },
  {
   "cell_type": "code",
   "execution_count": null,
   "metadata": {},
   "outputs": [],
   "source": []
  }
 ],
 "metadata": {
  "kernelspec": {
   "display_name": "Python 3",
   "language": "python",
   "name": "python3"
  },
  "language_info": {
   "codemirror_mode": {
    "name": "ipython",
    "version": 3
   },
   "file_extension": ".py",
   "mimetype": "text/x-python",
   "name": "python",
   "nbconvert_exporter": "python",
   "pygments_lexer": "ipython3",
   "version": "3.8.5"
  }
 },
 "nbformat": 4,
 "nbformat_minor": 5
}
